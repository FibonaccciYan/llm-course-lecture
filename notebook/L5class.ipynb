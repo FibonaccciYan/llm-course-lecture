{
 "cells": [
  {
   "cell_type": "code",
   "execution_count": 1,
   "metadata": {},
   "outputs": [],
   "source": [
    "import torch\n",
    "import torch.nn as nn"
   ]
  },
  {
   "cell_type": "code",
   "execution_count": 2,
   "metadata": {},
   "outputs": [
    {
     "name": "stdout",
     "output_type": "stream",
     "text": [
      "torch.Size([2, 3, 4])\n"
     ]
    }
   ],
   "source": [
    "input = torch.randn(2,3,4)\n",
    "\n",
    "print(input.shape)"
   ]
  },
  {
   "cell_type": "code",
   "execution_count": 13,
   "metadata": {},
   "outputs": [
    {
     "name": "stdout",
     "output_type": "stream",
     "text": [
      "tensor([[[-0.8517, -1.0134, -0.8147,  0.7356],\n",
      "         [ 0.0407, -1.4899, -1.1837, -0.5884],\n",
      "         [ 0.2723, -0.9320, -0.3147,  1.1367]],\n",
      "\n",
      "        [[ 1.3157, -1.5664,  0.0989,  0.0206],\n",
      "         [ 0.0199,  0.0908,  0.7276,  0.0071],\n",
      "         [ 0.6494,  0.8260,  1.1350, -0.2095]]])\n",
      "torch.Size([2, 3])\n"
     ]
    }
   ],
   "source": [
    "print(input)\n",
    "# print(input[0][0][0]**2)\n",
    "print(input.mean(-1).shape)"
   ]
  },
  {
   "cell_type": "code",
   "execution_count": null,
   "metadata": {},
   "outputs": [],
   "source": []
  },
  {
   "cell_type": "code",
   "execution_count": 18,
   "metadata": {},
   "outputs": [
    {
     "name": "stdout",
     "output_type": "stream",
     "text": [
      "tensor([0., 1., 2., 3., 4.])\n",
      "tensor([[0.0000, 0.0000, 0.0000, 0.0000, 0.0000, 0.0000, 0.0000, 0.0000],\n",
      "        [1.0000, 0.8409, 0.7071, 0.5946, 0.5000, 0.4204, 0.3536, 0.2973],\n",
      "        [2.0000, 1.6818, 1.4142, 1.1892, 1.0000, 0.8409, 0.7071, 0.5946],\n",
      "        [3.0000, 2.5227, 2.1213, 1.7838, 1.5000, 1.2613, 1.0607, 0.8919],\n",
      "        [4.0000, 3.3636, 2.8284, 2.3784, 2.0000, 1.6818, 1.4142, 1.1892]])\n"
     ]
    }
   ],
   "source": [
    "dim = 16\n",
    "max_len = 5\n",
    "\n",
    "pe = torch.zeros(max_len, dim) # R shape = [len, dim]\n",
    "\n",
    "pos = torch.arange(0, max_len, dtype=torch.float) # shape = [len,]\n",
    "\n",
    "print(pos)\n",
    "\n",
    "theta = 1 / (dim**0.5) ** (torch.arange(0, dim, 2).float()  / dim)#.to(config.device) / dim) # shape = [dim//2,]\n",
    "\n",
    "half_pe = torch.outer(pos, theta) # shape = [len, dim//2]\n",
    "print(half_pe)\n",
    "\n",
    "pe[:, 0::2] = torch.sin(half_pe)\n",
    "pe[:, 1::2] = torch.sin(half_pe)\n"
   ]
  },
  {
   "cell_type": "code",
   "execution_count": 12,
   "metadata": {},
   "outputs": [
    {
     "name": "stdout",
     "output_type": "stream",
     "text": [
      "0.011859209999999999 tensor([[[7.2546e-01, 1.0270e+00, 6.6376e-01, 5.4114e-01],\n",
      "         [1.6574e-03, 2.2199e+00, 1.4011e+00, 3.4623e-01],\n",
      "         [7.4154e-02, 8.6856e-01, 9.9030e-02, 1.2920e+00]],\n",
      "\n",
      "        [[1.7310e+00, 2.4537e+00, 9.7801e-03, 4.2344e-04],\n",
      "         [3.9466e-04, 8.2361e-03, 5.2938e-01, 5.1037e-05],\n",
      "         [4.2174e-01, 6.8229e-01, 1.2882e+00, 4.3870e-02]]])\n",
      "tensor([[[-0.9906, -1.1786, -0.9475,  0.8555],\n",
      "         [ 0.0409, -1.4958, -1.1883, -0.5907],\n",
      "         [ 0.3565, -1.2201, -0.4120,  1.4881]],\n",
      "\n",
      "        [[ 1.2848, -1.5296,  0.0966,  0.0201],\n",
      "         [ 0.0542,  0.2474,  1.9838,  0.0195],\n",
      "         [ 0.8322,  1.0584,  1.4544, -0.2684]]])\n",
      "tensor([[-0.1977, -1.2982, -0.8493,  0.5843],\n",
      "        [ 0.7237, -0.0746,  1.1782, -0.0763]])\n",
      "tensor([[[-0.5653],\n",
      "         [-0.8085],\n",
      "         [ 0.0531]],\n",
      "\n",
      "        [[-0.0320],\n",
      "         [ 0.5762],\n",
      "         [ 0.7691]]])\n"
     ]
    }
   ],
   "source": [
    "epsilon = 1e-6\n",
    "\n",
    "variance = input.pow(2).mean(-1, keepdim=True)\n",
    "hidden_states = input * torch.rsqrt(variance + epsilon)\n",
    "print(0.1089**2, input.pow(2))\n",
    "print(hidden_states)\n",
    "print(hidden_states.mean(1))\n",
    "print(hidden_states.mean(-1, keepdim=True))"
   ]
  }
 ],
 "metadata": {
  "kernelspec": {
   "display_name": "base",
   "language": "python",
   "name": "python3"
  },
  "language_info": {
   "codemirror_mode": {
    "name": "ipython",
    "version": 3
   },
   "file_extension": ".py",
   "mimetype": "text/x-python",
   "name": "python",
   "nbconvert_exporter": "python",
   "pygments_lexer": "ipython3",
   "version": "3.10.9"
  }
 },
 "nbformat": 4,
 "nbformat_minor": 2
}
