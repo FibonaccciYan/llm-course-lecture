{
 "cells": [
  {
   "cell_type": "code",
   "execution_count": 1,
   "metadata": {},
   "outputs": [],
   "source": [
    "import torch\n",
    "import transformers\n",
    "import torch.nn as nn\n",
    "import math"
   ]
  },
  {
   "cell_type": "code",
   "execution_count": 2,
   "metadata": {},
   "outputs": [],
   "source": [
    "hidden_states = torch.randn(2, 3, 4)\n",
    "q_proj = nn.Linear(4, 4, bias=False)\n",
    "k_proj = nn.Linear(4, 4, bias=False)\n",
    "v_proj = nn.Linear(4, 4, bias=False)\n",
    "o_proj = nn.Linear(4, 4, bias=False)"
   ]
  },
  {
   "cell_type": "code",
   "execution_count": 3,
   "metadata": {},
   "outputs": [],
   "source": [
    "q = q_proj(hidden_states)\n",
    "k = k_proj(hidden_states)\n",
    "v = v_proj(hidden_states)"
   ]
  },
  {
   "cell_type": "code",
   "execution_count": 4,
   "metadata": {},
   "outputs": [
    {
     "name": "stdout",
     "output_type": "stream",
     "text": [
      "tensor([[1., 1., 1.],\n",
      "        [1., 1., 1.]])\n",
      "tensor([[1., 1., 1.],\n",
      "        [1., 1., 0.]])\n"
     ]
    }
   ],
   "source": [
    "mask = torch.ones(2, 3)\n",
    "print(mask)\n",
    "mask[1][2] = 0\n",
    "print(mask)"
   ]
  },
  {
   "cell_type": "code",
   "execution_count": 5,
   "metadata": {},
   "outputs": [
    {
     "name": "stdout",
     "output_type": "stream",
     "text": [
      "torch.Size([2, 3, 3])\n",
      "tensor([[[-1.7162, -1.4536, -0.4920],\n",
      "         [-0.9353, -0.8119, -0.2695],\n",
      "         [ 0.0611,  0.0057,  0.0570]],\n",
      "\n",
      "        [[-0.3247,  0.1361, -0.5795],\n",
      "         [ 0.6162, -0.1619,  0.7786],\n",
      "         [-0.2297,  0.4198, -0.2843]]], grad_fn=<DivBackward0>)\n",
      "torch.Size([2, 3, 3])\n",
      "tensor([[[-1.7162, -0.0000, -0.0000],\n",
      "         [-0.9353, -0.8119, -0.0000],\n",
      "         [ 0.0611,  0.0057,  0.0570]],\n",
      "\n",
      "        [[-0.3247,  0.0000, -0.0000],\n",
      "         [ 0.6162, -0.1619,  0.0000],\n",
      "         [-0.2297,  0.4198, -0.2843]]], grad_fn=<MulBackward0>)\n"
     ]
    }
   ],
   "source": [
    "P = q.matmul(k.transpose(-2, -1)) / math.sqrt(4)\n",
    "print(P.shape)\n",
    "print(P)\n",
    "\n",
    "\n",
    "causal_mask = (torch.triu(torch.ones(2, 3, 3)) == 1).transpose(1, 2)\n",
    "print(causal_mask.shape)\n",
    "P = P * causal_mask\n",
    "print(P)"
   ]
  },
  {
   "cell_type": "code",
   "execution_count": 6,
   "metadata": {},
   "outputs": [],
   "source": [
    "A = nn.functional.softmax(P, dim=-1, dtype=torch.float32).to(q.dtype)\n",
    "O = torch.matmul(A, v)\n",
    "\n"
   ]
  },
  {
   "cell_type": "code",
   "execution_count": 7,
   "metadata": {},
   "outputs": [
    {
     "name": "stdout",
     "output_type": "stream",
     "text": [
      "torch.Size([2, 2, 3, 2]) torch.Size([2, 2, 3, 2]) torch.Size([2, 2, 3, 2])\n"
     ]
    }
   ],
   "source": [
    "q_heads = q.view(2, 3, 2, 2).transpose(1, 2)\n",
    "k_heads = k.view(2, 3, 2, 2).transpose(1, 2)\n",
    "v_heads = v.view(2, 3, 2, 2).transpose(1, 2)\n",
    "print(q_heads.shape,k_heads.shape,v_heads.shape)\n"
   ]
  },
  {
   "cell_type": "code",
   "execution_count": null,
   "metadata": {},
   "outputs": [],
   "source": []
  },
  {
   "cell_type": "code",
   "execution_count": 8,
   "metadata": {},
   "outputs": [
    {
     "name": "stdout",
     "output_type": "stream",
     "text": [
      "torch.Size([2, 2, 3, 3])\n",
      "tensor([[[[-1.6499e+00, -1.2629e+00, -3.9503e-01],\n",
      "          [-8.6208e-01, -6.3481e-01, -1.7792e-01],\n",
      "          [-5.7256e-02,  4.2234e-03,  4.0933e-02]],\n",
      "\n",
      "         [[-6.6269e-02, -1.9071e-01, -9.6926e-02],\n",
      "          [-7.3249e-02, -1.7711e-01, -9.1537e-02],\n",
      "          [ 1.1836e-01,  1.4750e-03,  1.6079e-02]]],\n",
      "\n",
      "\n",
      "        [[[-3.4250e-01,  2.4986e-01, -5.2080e-01],\n",
      "          [ 3.2194e-01, -1.0455e-01,  6.4518e-01],\n",
      "          [-4.1561e-01,  5.9331e-01, -2.8545e-01]],\n",
      "\n",
      "         [[ 1.7789e-02, -1.1378e-01, -5.8736e-02],\n",
      "          [ 2.9427e-01, -5.7370e-02,  1.3344e-01],\n",
      "          [ 1.8590e-01, -1.7352e-01,  1.1639e-03]]]], grad_fn=<DivBackward0>)\n",
      "torch.Size([2, 3, 3])\n",
      "tensor([[[[-1.6499e+00, -0.0000e+00, -0.0000e+00],\n",
      "          [-8.6208e-01, -6.3481e-01, -0.0000e+00],\n",
      "          [-5.7256e-02,  4.2234e-03,  4.0933e-02]],\n",
      "\n",
      "         [[-6.6269e-02, -0.0000e+00, -0.0000e+00],\n",
      "          [-7.3249e-02, -1.7711e-01, -0.0000e+00],\n",
      "          [ 1.1836e-01,  1.4750e-03,  1.6079e-02]]],\n",
      "\n",
      "\n",
      "        [[[-3.4250e-01,  0.0000e+00, -0.0000e+00],\n",
      "          [ 3.2194e-01, -1.0455e-01,  0.0000e+00],\n",
      "          [-4.1561e-01,  5.9331e-01, -2.8545e-01]],\n",
      "\n",
      "         [[ 1.7789e-02, -0.0000e+00, -0.0000e+00],\n",
      "          [ 2.9427e-01, -5.7370e-02,  0.0000e+00],\n",
      "          [ 1.8590e-01, -1.7352e-01,  1.1639e-03]]]], grad_fn=<MulBackward0>)\n",
      "torch.Size([2, 3, 4])\n",
      "torch.Size([2, 3, 4])\n"
     ]
    }
   ],
   "source": [
    "P = q_heads.matmul(k_heads.transpose(-2, -1)) / math.sqrt(4)\n",
    "print(P.shape)\n",
    "print(P)\n",
    "\n",
    "\n",
    "causal_mask = (torch.triu(torch.ones(2, 3, 3)) == 1).transpose(1, 2)\n",
    "print(causal_mask.shape)\n",
    "P = P * causal_mask\n",
    "print(P)\n",
    "\n",
    "A = nn.functional.softmax(P, dim=-1, dtype=torch.float32).to(q.dtype)\n",
    "O = torch.matmul(A, v_heads)\n",
    "\n",
    "O = O.transpose(1, 2).contiguous() #下面如果用reshape，可以不用contiguous\n",
    "\n",
    "O = O.reshape(2, 3, -1)\n",
    "print(O.shape)\n",
    "\n",
    "output = o_proj(O)\n",
    "\n",
    "\n",
    "print(output.shape)"
   ]
  },
  {
   "cell_type": "code",
   "execution_count": null,
   "metadata": {},
   "outputs": [],
   "source": []
  },
  {
   "cell_type": "code",
   "execution_count": null,
   "metadata": {},
   "outputs": [],
   "source": []
  },
  {
   "cell_type": "code",
   "execution_count": null,
   "metadata": {},
   "outputs": [],
   "source": []
  },
  {
   "cell_type": "code",
   "execution_count": null,
   "metadata": {},
   "outputs": [],
   "source": []
  },
  {
   "cell_type": "code",
   "execution_count": null,
   "metadata": {},
   "outputs": [],
   "source": []
  }
 ],
 "metadata": {
  "kernelspec": {
   "display_name": "Python 3 (ipykernel)",
   "language": "python",
   "name": "python3"
  },
  "language_info": {
   "codemirror_mode": {
    "name": "ipython",
    "version": 3
   },
   "file_extension": ".py",
   "mimetype": "text/x-python",
   "name": "python",
   "nbconvert_exporter": "python",
   "pygments_lexer": "ipython3",
   "version": "3.10.9"
  }
 },
 "nbformat": 4,
 "nbformat_minor": 2
}
