{
 "cells": [
  {
   "cell_type": "code",
   "execution_count": 1,
   "metadata": {},
   "outputs": [],
   "source": [
    "import torch\n",
    "import torch.nn as nn\n"
   ]
  },
  {
   "cell_type": "code",
   "execution_count": null,
   "metadata": {},
   "outputs": [],
   "source": [
    "input = torch.randn(2,3,4, requires_grad=True)\n",
    "\n",
    "print(input)\n",
    "print(input.mean(-1, keepdim=True))\n",
    "print(input.mean(1))\n",
    "\n",
    "variance_epsilon = 1e-6\n"
   ]
  },
  {
   "cell_type": "code",
   "execution_count": null,
   "metadata": {},
   "outputs": [],
   "source": [
    "input = input.to(torch.float32)\n",
    "variance = input.pow(2).mean(-1, keepdim=True)\n",
    "hidden_states = input * torch.rsqrt(variance + variance_epsilon)\n",
    "print(0.1089**2, input.pow(2))\n",
    "\n",
    "layerNorm = nn.RMSNorm([4])\n",
    "hidden_states1 = layerNorm(input)\n",
    "print(hidden_states)\n",
    "print(hidden_states1)"
   ]
  },
  {
   "cell_type": "code",
   "execution_count": null,
   "metadata": {},
   "outputs": [],
   "source": [
    "class SinusodialPE(nn.Module):\n",
    "    def __init__(self, base=10000) -> None:\n",
    "        super().__init__()\n",
    "        \n",
    "        self.dim = 128\n",
    "        self.base = base        \n",
    "        self.max_seq_len = 5\n",
    "        \n",
    "        self.pe = torch.zeros(self.max_seq_len, self.dim) # shape = [max_seq_len, dim]\n",
    "        \n",
    "        pos = torch.arange(0, self.max_seq_len, dtype=torch.float) # shape = [max_seq_len,]\n",
    "        print(pos.shape)\n",
    "        theta = 1 / self.base ** (torch.arange(0, self.dim, 2).float()  / self.dim)#.to(config.device) / self.dim) # shape = [dim//2,]\n",
    "        print(torch.arange(0, self.dim, 2))\n",
    "        \n",
    "        half_pe = torch.outer(pos, theta) # shape = [max_seq_len, dim//2]\n",
    "        print(half_pe)\n",
    "        self.pe[:, 0::2] = torch.sin(half_pe)\n",
    "        self.pe[:, 1::2] = torch.cos(half_pe)\n",
    "        \n",
    "    def forward(self, position_ids):\n",
    "        return self.pe[position_ids]\n",
    "\n",
    "\n",
    "sinpe = SinusodialPE()\n",
    "sinpe.pe.shape"
   ]
  },
  {
   "cell_type": "code",
   "execution_count": null,
   "metadata": {},
   "outputs": [],
   "source": [
    "import matplotlib.pyplot as plt\n",
    "import torch.nn.functional as F\n",
    "\n",
    "\n",
    "range: tuple = (-5,5)\n",
    "x = torch.arange(range[0], range[1], 0.1)\n",
    "plt.plot(x, F.silu(x), label='silu')"
   ]
  },
  {
   "cell_type": "code",
   "execution_count": null,
   "metadata": {},
   "outputs": [],
   "source": [
    "class FFN(nn.Module):\n",
    "    def __init__(self) -> None:\n",
    "        super().__init__()\n",
    "        \n",
    "        self.hidden_size = 2048\n",
    "        self.ffn_size = 8192\n",
    "        self.dropout_p = 0.05\n",
    "        \n",
    "        self.up_proj = nn.Linear(self.hidden_size, self.ffn_size)\n",
    "        self.down_proj = nn.Linear(self.ffn_size, self.hidden_size)#.to(config.device)\n",
    "        \n",
    "        # self.activation_func = F.relu\n",
    "        # self.activation_func = F.elu\n",
    "        self.activation_func = F.gelu\n",
    "        self.dropout = nn.Dropout(p=self.dropout_p)\n",
    "        \n",
    "    def forward(self, hidden_states: torch.Tensor) -> torch.Tensor:\n",
    "        \"\"\"\n",
    "\n",
    "        Args:\n",
    "            hidden_states (torch.Tensor): shape: [batch_size, seq_len, hidden_size]\n",
    "\n",
    "        Returns:\n",
    "            torch.Tensor: shape: [batch_size, seq_len, hidden_size]\n",
    "        \"\"\"\n",
    "        hidden_states = self.up_proj(hidden_states) # [batch_size, seq_len, ffn_size]\n",
    "        hidden_states = self.activation_func(hidden_states)\n",
    "        hidden_states = self.dropout(hidden_states)\n",
    "        hidden_states = self.down_proj(hidden_states) # [batch_size, seq_len, hidden_size]\n",
    "        \n",
    "        return hidden_states\n",
    "        \n",
    "ffn = FFN()\n",
    "ffn"
   ]
  }
 ],
 "metadata": {
  "kernelspec": {
   "display_name": "base",
   "language": "python",
   "name": "python3"
  },
  "language_info": {
   "codemirror_mode": {
    "name": "ipython",
    "version": 3
   },
   "file_extension": ".py",
   "mimetype": "text/x-python",
   "name": "python",
   "nbconvert_exporter": "python",
   "pygments_lexer": "ipython3",
   "version": "3.10.9"
  }
 },
 "nbformat": 4,
 "nbformat_minor": 2
}
