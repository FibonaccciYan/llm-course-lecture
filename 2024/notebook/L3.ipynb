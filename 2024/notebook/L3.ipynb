{
 "cells": [
  {
   "cell_type": "code",
   "execution_count": 3,
   "metadata": {},
   "outputs": [],
   "source": [
    "import torch\n",
    "import torch.nn as nn"
   ]
  },
  {
   "cell_type": "code",
   "execution_count": 4,
   "metadata": {},
   "outputs": [
    {
     "name": "stdout",
     "output_type": "stream",
     "text": [
      "torch.Size([3, 2]) torch.Size([3])\n"
     ]
    }
   ],
   "source": [
    "linear = nn.Linear(2,3)\n",
    "print(linear.weight.shape, linear.bias.shape)"
   ]
  },
  {
   "cell_type": "code",
   "execution_count": 5,
   "metadata": {},
   "outputs": [
    {
     "name": "stdout",
     "output_type": "stream",
     "text": [
      "torch.Size([3, 2]) torch.Size([3])\n"
     ]
    }
   ],
   "source": [
    "linear = nn.Linear(2,3)\n",
    "\n",
    "print(linear.weight.shape, linear.bias.shape)\n"
   ]
  },
  {
   "cell_type": "code",
   "execution_count": 6,
   "metadata": {},
   "outputs": [
    {
     "name": "stdout",
     "output_type": "stream",
     "text": [
      "torch.Size([2, 2, 2, 3])\n",
      "torch.Size([2, 2, 2, 3])\n",
      "tensor([[[[ 0.0729,  0.0425,  0.2560],\n",
      "          [-0.9696,  0.1356, -0.2452]],\n",
      "\n",
      "         [[-0.9448, -0.0039, -0.8519],\n",
      "          [-0.3079,  0.0283, -0.1444]]],\n",
      "\n",
      "\n",
      "        [[[-0.5912,  0.1336,  0.0801],\n",
      "          [-0.2024, -0.1211, -0.7249]],\n",
      "\n",
      "         [[-0.1338, -0.0049, -0.1403],\n",
      "          [ 0.4951, -0.0233,  0.3321]]]], grad_fn=<UnsafeViewBackward0>)\n",
      "Parameter containing:\n",
      "tensor([-0.4262, -0.4402, -0.1539], requires_grad=True) torch.Size([3])\n",
      "tensor([-0.3533, -0.3977,  0.1021], grad_fn=<SliceBackward0>)\n",
      "tensor([-0.3533, -0.3977,  0.1021], grad_fn=<AddBackward0>)\n"
     ]
    }
   ],
   "source": [
    "x = torch.randn(2,2,2,2)\n",
    "y = linear(x)\n",
    "print(y.shape)\n",
    "\n",
    "y1 = x.matmul(linear.weight.t())\n",
    "print(y1.shape)\n",
    "\n",
    "print(y1)\n",
    "print(linear.bias, linear.bias.shape)\n",
    "y2 = y1[0,0,0,:] + linear.bias\n",
    "y1 = torch.add(y1,linear.bias)\n",
    "nn.functional.avg_pool2d\n",
    "print(y1[0,0,0,:])\n",
    "print(y2)\n",
    "\n"
   ]
  },
  {
   "cell_type": "code",
   "execution_count": 7,
   "metadata": {},
   "outputs": [
    {
     "name": "stdout",
     "output_type": "stream",
     "text": [
      "tensor([[[ 0.7074,  0.3493,  2.1216, -0.6073],\n",
      "         [-1.3057,  1.7876,  0.0967,  0.8739]],\n",
      "\n",
      "        [[ 0.0896,  1.5772, -0.3600,  0.6972],\n",
      "         [-0.9073, -0.0454,  0.0571, -0.6270]]]) 20\n",
      "tensor([[[20.7074, 20.3493, 22.1216, 19.3927],\n",
      "         [18.6943, 21.7876, 20.0967, 20.8739]],\n",
      "\n",
      "        [[20.0896, 21.5772, 19.6400, 20.6972],\n",
      "         [19.0927, 19.9546, 20.0571, 19.3731]]])\n",
      "tensor([[ 0.1878,  1.8093,  0.9831,  0.8395],\n",
      "        [ 1.5020,  0.9427, -0.9425,  1.1161]])\n",
      "tensor([[[20.7074, 20.3493, 22.1216, 19.3927],\n",
      "         [18.6943, 21.7876, 20.0967, 20.8739]],\n",
      "\n",
      "        [[20.0896, 21.5772, 19.6400, 20.6972],\n",
      "         [19.0927, 19.9546, 20.0571, 19.3731]]])\n",
      "torch.Size([2, 2, 4]) torch.Size([4, 2])\n",
      "tensor([[[  3.8888,  36.8177,  21.7480,  16.2811],\n",
      "         [ 28.0784,  20.5382, -18.9417,  23.2981]],\n",
      "\n",
      "        [[  3.7727,  39.0393,  19.3083,  17.3763],\n",
      "         [ 28.6767,  18.8103, -18.9044,  21.6230]]]) tensor([[[50.4971, 12.7446],\n",
      "         [52.3645, 17.6345]],\n",
      "\n",
      "        [[51.5845, 16.3456],\n",
      "         [48.5973, 14.3048]]])\n"
     ]
    }
   ],
   "source": [
    "# Tensor broadcasting\n",
    "\n",
    "a = torch.randn(2, 2, 4)\n",
    "\n",
    "b = 20\n",
    "print(a,b)\n",
    "a = a + b\n",
    "print(a)\n",
    "\n",
    "c = torch.randn(2,4)\n",
    "\n",
    "d = a + c\n",
    "\n",
    "print(c)\n",
    "print(a)\n",
    "\n",
    "e = a * c\n",
    "\n",
    "c1 = torch.randn(4,2)\n",
    "print(a.shape, c1.shape)\n",
    "f = a @ c1\n",
    "\n",
    "print(e, f)\n"
   ]
  },
  {
   "cell_type": "code",
   "execution_count": 8,
   "metadata": {},
   "outputs": [
    {
     "ename": "ModuleNotFoundError",
     "evalue": "No module named 'torchviz'",
     "output_type": "error",
     "traceback": [
      "\u001b[0;31m---------------------------------------------------------------------------\u001b[0m",
      "\u001b[0;31mModuleNotFoundError\u001b[0m                       Traceback (most recent call last)",
      "Cell \u001b[0;32mIn[8], line 1\u001b[0m\n\u001b[0;32m----> 1\u001b[0m \u001b[38;5;28;01mfrom\u001b[39;00m \u001b[38;5;21;01mtorchviz\u001b[39;00m \u001b[38;5;28;01mimport\u001b[39;00m make_dot, make_dot_from_trace\n\u001b[1;32m      3\u001b[0m x \u001b[38;5;241m=\u001b[39m torch\u001b[38;5;241m.\u001b[39mones(\u001b[38;5;241m5\u001b[39m)  \u001b[38;5;66;03m# input tensor\u001b[39;00m\n\u001b[1;32m      4\u001b[0m y \u001b[38;5;241m=\u001b[39m torch\u001b[38;5;241m.\u001b[39mzeros(\u001b[38;5;241m3\u001b[39m)  \u001b[38;5;66;03m# expected output\u001b[39;00m\n",
      "\u001b[0;31mModuleNotFoundError\u001b[0m: No module named 'torchviz'"
     ]
    }
   ],
   "source": [
    "from torchviz import make_dot, make_dot_from_trace\n",
    "\n",
    "x = torch.ones(5)  # input tensor\n",
    "y = torch.zeros(3)  # expected output\n",
    "w = torch.randn(5, 3, requires_grad=True)\n",
    "b = torch.randn(3, requires_grad=True)\n",
    "z = torch.matmul(x, w)+b\n",
    "loss = torch.nn.functional.binary_cross_entropy_with_logits(z, y)\n",
    "\n",
    "make_dot(loss)"
   ]
  },
  {
   "cell_type": "code",
   "execution_count": null,
   "metadata": {},
   "outputs": [],
   "source": []
  },
  {
   "cell_type": "code",
   "execution_count": null,
   "metadata": {},
   "outputs": [],
   "source": []
  },
  {
   "cell_type": "code",
   "execution_count": null,
   "metadata": {},
   "outputs": [],
   "source": []
  }
 ],
 "metadata": {
  "kernelspec": {
   "display_name": "base",
   "language": "python",
   "name": "python3"
  },
  "language_info": {
   "codemirror_mode": {
    "name": "ipython",
    "version": 3
   },
   "file_extension": ".py",
   "mimetype": "text/x-python",
   "name": "python",
   "nbconvert_exporter": "python",
   "pygments_lexer": "ipython3",
   "version": "3.10.9"
  }
 },
 "nbformat": 4,
 "nbformat_minor": 2
}
